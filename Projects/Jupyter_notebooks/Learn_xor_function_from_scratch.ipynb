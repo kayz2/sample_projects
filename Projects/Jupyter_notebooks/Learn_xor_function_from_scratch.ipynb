{
 "cells": [
  {
   "cell_type": "markdown",
   "metadata": {},
   "source": [
    "The point of this excercise is to build a two layer neural network capable of lerning the XOR problem using only numpy."
   ]
  },
  {
   "cell_type": "code",
   "execution_count": 1,
   "metadata": {},
   "outputs": [],
   "source": [
    "import numpy as np\n",
    "import matplotlib.pyplot as plt\n",
    "\n",
    "#We will use the sigmoid function as an activation functuion.\n",
    "def sigmoid(x):\n",
    "    return 1/(1+ np.exp(-x))\n",
    "#We need derivative of the activation function to implement backprop\n",
    "def sigmoid_der(x):\n",
    "    return sigmoid(x)*(1-sigmoid(x))"
   ]
  },
  {
   "cell_type": "markdown",
   "metadata": {},
   "source": [
    "Create a general class of a two layer feed forward neural network with backpropagation as a training algorithm"
   ]
  },
  {
   "cell_type": "code",
   "execution_count": 2,
   "metadata": {},
   "outputs": [],
   "source": [
    "class two_layer_nn:\n",
    "    def __init__(self, x, y):\n",
    "        \"\"\"\n",
    "        This is a class for a neural network with one hidden layer and an output\n",
    "        layer. No bias terms or any regularization techniques. Input must be a\n",
    "        2xn feature matrix, label is a 1xn matrix.\n",
    "        \"\"\"\n",
    "        self.input = x\n",
    "        # 2x2 weight matrix connecting input layer to the first hidden layer\n",
    "        self.wt_1 = np.random.rand(2, 2)\n",
    "        # 1x2 matrix connecting the hiddel alye with the output layer\n",
    "        self.wt_2 = np.random.rand(1,2)\n",
    "        self.label = y\n",
    "        #output layer\n",
    "        self.pred = np.zeros(self.label.shape)\n",
    "\n",
    "    def forwd(self):\n",
    "        \"\"\"\n",
    "        A function that performs a forward pass of data through neural network\n",
    "        \"\"\"\n",
    "        self.lay_1 = sigmoid(np.matmul(self.wt_1, self.input))\n",
    "        self.pred = sigmoid(np.matmul(self.wt_2, self.lay_1))\n",
    "        return self.pred\n",
    "\n",
    "    def back_prop(self):\n",
    "        \"\"\"\n",
    "        A function that performs back propagation based on mean squared error\n",
    "        as an accuracy metric\n",
    "        \"\"\"\n",
    "        wt_2_up = np.matmul(.5*(self.pred - self.label) * sigmoid_der(np.matmul(self.wt_2, self.lay_1)), self.lay_1.T)\n",
    "        a = .5*(self.pred - self.label) * sigmoid_der(np.matmul(self.wt_2, self.lay_1))\n",
    "        wt_1_up = np.matmul(np.matmul(self.wt_2.T,a)*sigmoid_der(np.matmul(self.wt_1,self.input)), self.input.T)\n",
    "\n",
    "        #Update weights\n",
    "        self.wt_2 -= wt_2_up\n",
    "        self.wt_1 -= wt_1_up\n",
    "        return wt_2_up\n",
    "\n",
    "    def mse(self):\n",
    "        \"\"\"\n",
    "        Mean squared error function\n",
    "        \"\"\"\n",
    "        mean_squared_error = np.linalg.norm(self.pred - self.label)**2\n",
    "        return mean_squared_error"
   ]
  },
  {
   "cell_type": "markdown",
   "metadata": {},
   "source": [
    "Learning XOR"
   ]
  },
  {
   "cell_type": "code",
   "execution_count": 3,
   "metadata": {},
   "outputs": [],
   "source": [
    "#input of xor function\n",
    "X = np.array([\n",
    "            [0,0,1,1],\n",
    "            [1,0,0,1]\n",
    "            ])\n",
    "#Labels\n",
    "Y = np.array([[1,0,1,0]])"
   ]
  },
  {
   "cell_type": "code",
   "execution_count": 4,
   "metadata": {},
   "outputs": [],
   "source": [
    "xor_nn = two_layer_nn(X, Y)\n",
    "#create list of the mean squared error to see the learning progress\n",
    "mse_list=[]"
   ]
  },
  {
   "cell_type": "code",
   "execution_count": 5,
   "metadata": {},
   "outputs": [],
   "source": [
    "#Learning xor by repeaded forwward and backward pass of the data\n",
    "for i in range(100000):\n",
    "    xor_nn.forwd()\n",
    "    xor_nn.back_prop()\n",
    "    mse_list.append(xor_nn.mse())"
   ]
  },
  {
   "cell_type": "code",
   "execution_count": 6,
   "metadata": {},
   "outputs": [
    {
     "name": "stdout",
     "output_type": "stream",
     "text": [
      "Prediction of the network:  [[0.9713155  0.01059322 0.97131551 0.03851225]]\n",
      "Labels: [[1 0 1 0]]\n"
     ]
    }
   ],
   "source": [
    "print(\"Prediction of the network: \", xor_nn.pred)\n",
    "print(\"Labels:\", Y)"
   ]
  },
  {
   "cell_type": "markdown",
   "metadata": {},
   "source": [
    "plot of the mean squared error"
   ]
  },
  {
   "cell_type": "code",
   "execution_count": 7,
   "metadata": {},
   "outputs": [
    {
     "data": {
      "image/png": "[encoded data removed]",
      "text/plain": [
       "<Figure size 432x288 with 1 Axes>"
      ]
     },
     "metadata": {},
     "output_type": "display_data"
    }
   ],
   "source": [
    "mse_plot = plt.plot(mse_list)"
   ]
  },
  {
   "cell_type": "code",
   "execution_count": null,
   "metadata": {},
   "outputs": [],
   "source": []
  }
 ],
 "metadata": {
  "kernelspec": {
   "display_name": "Python 3",
   "language": "python",
   "name": "python3"
  },
  "language_info": {
   "codemirror_mode": {
    "name": "ipython",
    "version": 3
   },
   "file_extension": ".py",
   "mimetype": "text/x-python",
   "name": "python",
   "nbconvert_exporter": "python",
   "pygments_lexer": "ipython3",
   "version": "3.6.5"
  }
 },
 "nbformat": 4,
 "nbformat_minor": 2
}
